{
 "cells": [
  {
   "cell_type": "markdown",
   "metadata": {},
   "source": [
    "*Credits: materials from this notebook belong to YSDA [Practical DL](https://github.com/yandexdataschool/Practical_DL) course. Special thanks for making them available online.*"
   ]
  },
  {
   "cell_type": "markdown",
   "metadata": {},
   "source": [
    "# Lab assignment №1, part 1\n",
    "\n",
    "This lab assignment consists of several parts. You are supposed to make some transformations, train some models, estimate the quality of the models and explain your results.\n",
    "\n",
    "Several comments:\n",
    "* Don't hesitate to ask questions, it's a good practice.\n",
    "* No private/public sharing, please. The copied assignments will be graded with 0 points.\n",
    "* Blocks of this lab will be graded separately."
   ]
  },
  {
   "cell_type": "markdown",
   "metadata": {},
   "source": [
    "## 1. Matrix differentiation"
   ]
  },
  {
   "cell_type": "markdown",
   "metadata": {},
   "source": [
    "Since it easy to google every task please please please try to undestand what's going on. The \"just answer\" thing will be not counted, make sure to present derivation of your solution. It is absolutely OK if you found an answer on web then just exercise in $\\LaTeX$ copying it into here."
   ]
  },
  {
   "cell_type": "markdown",
   "metadata": {},
   "source": [
    "Useful links:\n",
    "- [Matrix Differentiation (EN)](http://www.atmos.washington.edu/~dennis/MatrixCalculus.pdf)\n",
    "- [Матричные вычисления (RU)](http://www.machinelearning.ru/wiki/images/2/2a/Matrix-Gauss.pdf)"
   ]
  },
  {
   "cell_type": "markdown",
   "metadata": {},
   "source": [
    "## Exercise 1"
   ]
  },
  {
   "cell_type": "markdown",
   "metadata": {},
   "source": [
    "$$  \n",
    "y = x^Tx,  \\quad x \\in \\mathbb{R}^N \n",
    "$$"
   ]
  },
  {
   "cell_type": "markdown",
   "metadata": {},
   "source": [
    "$$\n",
    "\\frac{dy}{dx} = 2x\n",
    "$$ "
   ]
  },
  {
   "cell_type": "markdown",
   "metadata": {
    "collapsed": true,
    "jupyter": {
     "outputs_hidden": true
    }
   },
   "source": [
    "## ОТВЕТ:\n",
    "\n",
    "Необходимо представить в виде <?, $h$>, где $h$ - это приращение. D<$x, x$> = <$Dx, x$> + <$x, Dx$> = <$Dx, x$> + <$x, Dx$>, где $Dx = (x + h) - x$. Тогда <$2x, h$>, а это значит:\n",
    "\n",
    "$$\n",
    "\\frac{dy}{dx} = 2x\n",
    "$$ "
   ]
  },
  {
   "cell_type": "markdown",
   "metadata": {},
   "source": [
    "## Exercise 2"
   ]
  },
  {
   "cell_type": "markdown",
   "metadata": {},
   "source": [
    "$$ y = tr(AB) \\quad A,B \\in \\mathbb{R}^{N \\times N} $$ "
   ]
  },
  {
   "cell_type": "markdown",
   "metadata": {},
   "source": [
    "$$\n",
    "\\frac{dy}{dA} = B^{T}\n",
    "$$"
   ]
  },
  {
   "cell_type": "markdown",
   "metadata": {
    "collapsed": true,
    "jupyter": {
     "outputs_hidden": true
    }
   },
   "source": [
    "## ОТВЕТ:\n",
    "\n",
    "Заметим, что след матрицы $AB$ равен: $tr(AB) = \\sum a_{1i}b_{i1} + \\sum a_{2i}b_{i2} $ + ... тогда\n",
    "\n",
    "$$\n",
    "\\frac{dtr(AB)}{da_{ij}} = b_{ji}\n",
    "$$\n",
    "\n",
    "$$\n",
    "\\frac{dtr(AB)}{A} = B^{T}\n",
    "$$"
   ]
  },
  {
   "cell_type": "markdown",
   "metadata": {},
   "source": [
    "## Exercise 3"
   ]
  },
  {
   "cell_type": "markdown",
   "metadata": {},
   "source": [
    "$$  \n",
    "y = x^TAc , \\quad A\\in \\mathbb{R}^{N \\times N}, x\\in \\mathbb{R}^{N}, c\\in \\mathbb{R}^{N} \n",
    "$$"
   ]
  },
  {
   "cell_type": "markdown",
   "metadata": {},
   "source": [
    "$$\n",
    "\\frac{dy}{dx} = Ac\n",
    "$$"
   ]
  },
  {
   "cell_type": "markdown",
   "metadata": {},
   "source": [
    "$$\n",
    "\\frac{dy}{dA} = xc^{T}\n",
    "$$ "
   ]
  },
  {
   "cell_type": "markdown",
   "metadata": {},
   "source": [
    "Hint for the latter (one of the ways): use *ex. 2* result and the fact \n",
    "$$\n",
    "tr(ABC) = tr (CAB)\n",
    "$$"
   ]
  },
  {
   "cell_type": "markdown",
   "metadata": {},
   "source": [
    "## ОТВЕТ:\n",
    "\n",
    "1) $D<x, Ac> = <Dx, Ac> = <h, Ac> = <Ac, h> $. Тогда:\n",
    "\n",
    "$$\n",
    "\\frac{dy}{dx} = Ac\n",
    "$$\n",
    "\n",
    "\n",
    "2) $$\n",
    "\\frac{\\sum x_{k}a_{ki}c_{i}}{a_{ki}} =  x_{k}c_{i} \n",
    "$$\n",
    "\n",
    "$$\n",
    "\\frac{d<x, Ac>}{dA} = xc^{T} \n",
    "$$ -  это матрица с элементами $x_{k}c_{i}$ "
   ]
  },
  {
   "cell_type": "markdown",
   "metadata": {},
   "source": [
    "## Exercise 4"
   ]
  },
  {
   "cell_type": "markdown",
   "metadata": {},
   "source": [
    "Classic matrix factorization example. Given matrix $X$ you need to find $A$, $S$ to approximate $X$. This can be done by simple gradient descent iteratively alternating $A$ and $S$ updates.\n",
    "$$\n",
    "J = || X - AS ||_F^2  , \\quad A\\in \\mathbb{R}^{N \\times R} , \\quad S\\in \\mathbb{R}^{R \\times M}\n",
    "$$\n",
    "$$\n",
    "\\frac{dJ}{dS} = -2(X - AS)A^{T}\n",
    "$$\n",
    "\n",
    "You may use one of the following approaches:"
   ]
  },
  {
   "cell_type": "markdown",
   "metadata": {},
   "source": [
    "#### First approach\n",
    "Using ex.2 and the fact:\n",
    "$$\n",
    "|| X ||_F^2 = tr(XX^T) \n",
    "$$ \n",
    "it is easy to derive gradients (you can find it in one of the refs). "
   ]
  },
  {
   "cell_type": "markdown",
   "metadata": {},
   "source": [
    "#### Second approach\n",
    "You can use *slightly different techniques* if they suits you. Take a look at this derivation:\n",
    "<img src=\"grad.png\">\n",
    "\n",
    "(excerpt from [Handbook of blind source separation, Jutten, page 517](https://books.google.ru/books?id=PTbj03bYH6kC&printsec=frontcover&dq=Handbook+of+Blind+Source+Separation&hl=en&sa=X&ved=0ahUKEwi-q_apiJDLAhULvXIKHVXJDWcQ6AEIHDAA#v=onepage&q=Handbook%20of%20Blind%20Source%20Separation&f=false), open for better picture)."
   ]
  },
  {
   "cell_type": "markdown",
   "metadata": {},
   "source": [
    "#### Third approach\n",
    "And finally we can use chain rule! \n",
    "let $ F = AS $ \n",
    "\n",
    "**Find**\n",
    "$$\n",
    "\\frac{dJ}{dF} =  \n",
    "$$ \n",
    "and \n",
    "$$\n",
    "\\frac{dF}{dS} =  \n",
    "$$ \n",
    "(the shape should be $ NM \\times RM )$.\n",
    "\n",
    "Now it is easy do get desired gradients:\n",
    "$$\n",
    "\\frac{dJ}{dS} =  \n",
    "$$ "
   ]
  },
  {
   "cell_type": "markdown",
   "metadata": {},
   "source": [
    "## ОТВЕТ:\n",
    "\n",
    "Пусть Y = X - AS, тогда || Y ||_F^2 = tr(YY^T). Далее воспользуемся результатами из пукнтов выше:\n",
    "$$\n",
    "\\frac{dJ}{dS} = \\frac{dtr(YY^T) }{dY} \\frac{dY}{dS} = 2Y(-A^{T}) = -2(X - AS)A^{T}\n",
    "$$"
   ]
  },
  {
   "cell_type": "markdown",
   "metadata": {
    "collapsed": true,
    "jupyter": {
     "outputs_hidden": true
    }
   },
   "source": [
    "## 2. kNN questions\n",
    "Here come the questions from the assignment0_01. Please, refer to the assignment0_01 to get the context of the questions."
   ]
  },
  {
   "cell_type": "markdown",
   "metadata": {},
   "source": [
    "### Question 1\n",
    "\n",
    "Notice the structured patterns in the distance matrix, where some rows or columns are visible brighter. (Note that with the default color scheme black indicates low distances while white indicates high distances.)\n",
    "\n",
    "- What in the data is the cause behind the distinctly bright rows?\n",
    "- What causes the columns?\n",
    "\n",
    "## ОТВЕТ:\n",
    "\n",
    "1) В строках расположены расстояния от обьекта теста до обьектов тренировочной выборки, поэтому если строка белая, то объект далеко от других объектов трейна, значит скорее всего он из другого класса.\n",
    "\n",
    "2) Если столбец белый, то наоборот это расстояние от объекта трейна до объекта теста, поэтому в этом случае для него все объекты теста одинаково удалены, поэтому и классифицирует он их одинаково, что плохо. \n",
    "\n"
   ]
  },
  {
   "cell_type": "markdown",
   "metadata": {},
   "source": [
    "### Question 2\n",
    "\n",
    "We can also use other distance metrics such as L1 distance.\n",
    "For pixel values $p_{ij}^{(k)}$ at location $(i,j)$ of some image $I_k$, \n",
    "\n",
    "the mean $\\mu$ across all pixels over all images is $$\\mu=\\frac{1}{nhw}\\sum_{k=1}^n\\sum_{i=1}^{h}\\sum_{j=1}^{w}p_{ij}^{(k)}$$\n",
    "And the pixel-wise mean $\\mu_{ij}$ across all images is \n",
    "$$\\mu_{ij}=\\frac{1}{n}\\sum_{k=1}^np_{ij}^{(k)}.$$\n",
    "The general standard deviation $\\sigma$ and pixel-wise standard deviation $\\sigma_{ij}$ is defined similarly.\n",
    "\n",
    "Which of the following preprocessing steps will not change the performance of a Nearest Neighbor classifier that uses L1 distance? Select all that apply.\n",
    "1. Subtracting the mean $\\mu$ ($\\tilde{p}_{ij}^{(k)}=p_{ij}^{(k)}-\\mu$.)\n",
    "2. Subtracting the per pixel mean $\\mu_{ij}$  ($\\tilde{p}_{ij}^{(k)}=p_{ij}^{(k)}-\\mu_{ij}$.)\n",
    "3. Subtracting the mean $\\mu$ and dividing by the standard deviation $\\sigma$.\n",
    "4. Subtracting the pixel-wise mean $\\mu_{ij}$ and dividing by the pixel-wise standard deviation $\\sigma_{ij}$.\n",
    "5. Rotating the coordinate axes of the data.\n",
    "\n",
    "## ОТВЕТ: 1, 2, 3, 4\n",
    "\n",
    "### ПОЯСНЕНИЕ:\n",
    "\n",
    "1. $\\rho(\\tilde{p}^{(k)}, \\tilde{p}^{(m)}) = \\sum\\limits^{h,\\omega}_{i, j = 1}|\\tilde{p}_{ij}^{(k)} - \\tilde{p}_{ij}^{(m)}| = \\sum\\limits^{h,\\omega}_{i, j = 1}|p_{ij}^{(k)} - \\mu - p_{ij}^{(m)} + \\mu| = \\sum\\limits^{h,\\omega}_{i, j = 1}|p_{ij}^{(k)} - p_{ij}^{(m)}| = \\rho(p^{(k)}, p^{(m)})$\n",
    "\n",
    "Расстояние осталось таким же, поэтому ничего не изменится.\n",
    "\n",
    "2. Аналогично пункту выше.\n",
    "\n",
    "3. $||\\tilde{x} - \\tilde{y}||_1 = ||\\frac{x - \\mu}{\\sigma} - \\frac{y - \\mu}{\\sigma}||_1 = \\frac{1}{\\sigma}||x - y||_1$\n",
    "\n",
    "Расстояния уменьшились в $\\frac{1}{\\sigma}$ раз. $\\sigma > 0$, значит относительное расположение будет таким же и классификация останется такой же.\n",
    "\n",
    "4. Вычитание среденего аналогично выше, а деление можно представить как $\\tilde{p}^{(k)} = S p^{(k)}$, где $p^{(k)}$ - вектор картинки, $S$ - диагольная матрица, у которой в $ij$-м элементе стоит $\\frac{1}{\\sigma_{ij}}$.\n",
    "\n",
    "Рассмотрим вектора $x, y, z$, упорядоченные так: $||x - y||_1 < ||y - z||\n",
    "_1$ и вектора $\\tilde{x}, \\tilde{y}, \\tilde{z}$\n",
    "\n",
    "$\\sigma_{ij}\\neq 0$, значит $S$, как диагональная с ненулевыми элементами, имеет обратную и $S^{-1}\\tilde{x} = x$.\n",
    "\n",
    "Тогда $||\\tilde{x} - \\tilde{y}||_1 = ||S(x - y)||_1 \\leq ||S||_1\\cdot||x - y||_1 < ||S||_1\\cdot||y - z||_1 = ||S||_1||S^{-1}(\\tilde{y} - \\tilde{z})||_1 \\leq ||S||_1\\cdot ||S^{-1}||_1\\cdot ||\\tilde{y} - \\tilde{z}||_1 = ||\\tilde{y} - \\tilde{z}||_1$\n",
    "\n",
    "Порядок сохранился, поэтому классификатор не поменяется.\n",
    "\n",
    "5. Покажем, что расстояние $L1$ не сохраняется при повороте. Пусть $x = (1, 0)^T$, $y = (0, 1)^T$, $z = (2, 1)^T$. Повернем оси на $\\pi/4$. Матрица такого преобразования:\n",
    "\n",
    "$ A = \\begin{pmatrix}\n",
    "\\frac{\\sqrt{2}}{2} & -\\frac{\\sqrt{2}}{2} \\\\\n",
    "\\frac{\\sqrt{2}}{2} & \\frac{\\sqrt{2}}{2} \\\\\n",
    "\\end{pmatrix}\n",
    "$\n",
    "\n",
    "Преобразованные вектора будут иметь вид:\n",
    "\n",
    "$\\tilde{x} = (-\\frac{\\sqrt{2}}{2}, \\frac{\\sqrt{2}}{2})^T$\n",
    "\n",
    "$\\tilde{y} = (\\frac{\\sqrt{2}}{2}, \\frac{\\sqrt{2}}{2})^T$\n",
    "\n",
    "$\\tilde{z} = (\\frac{3\\sqrt{2}}{2}, \\frac{\\sqrt{2}}{2})^T$\n",
    "\n",
    "Посчитаем расстояния до и после:\n",
    "\n",
    "$||x - y||_1 = 2$\n",
    "\n",
    "$||x - z||_1 = 2$\n",
    "\n",
    "$||\\tilde{x} - \\tilde{y}||_1 = \\sqrt{2}$\n",
    "\n",
    "$||\\tilde{x} - \\tilde{z}||_1 = \\frac{5}{2}\\sqrt{2}$\n",
    "\n",
    "Видим, что отношение порядка между расстояниями изменилось, значит изменится и результат классификации."
   ]
  },
  {
   "cell_type": "markdown",
   "metadata": {},
   "source": [
    "## Question 3\n",
    "\n",
    "Which of the following statements about $k$-Nearest Neighbor ($k$-NN) are true in a classification setting, and for all $k$? Select all that apply.\n",
    "1. The decision boundary (hyperplane between classes in feature space) of the k-NN classifier is linear.\n",
    "2. The training error of a 1-NN will always be lower than that of 5-NN.\n",
    "3. The test error of a 1-NN will always be lower than that of a 5-NN.\n",
    "4. The time needed to classify a test example with the k-NN classifier grows with the size of the training set.\n",
    "5. None of the above.\n",
    "\n",
    "## ОТВЕТ: 2, 4\n",
    "\n",
    "### ПОЯСНЕНИЕ:\n",
    "\n",
    "1. Вообще необязательно\n",
    "\n",
    "2, 3. На трейне ошибка будет нулевой, однако на тесте 1-NN сильно переобучается, поэтому необходимо увеличиват число соседей для уменьшения ошибки\n",
    "\n",
    "4. Чем больше объем выборки, тем больше расстояний надо рассчитать, тем дольше это делается. \n"
   ]
  },
  {
   "cell_type": "code",
   "execution_count": null,
   "metadata": {},
   "outputs": [],
   "source": []
  }
 ],
 "metadata": {
  "kernelspec": {
   "display_name": "Python 3 (ipykernel)",
   "language": "python",
   "name": "python3"
  },
  "language_info": {
   "codemirror_mode": {
    "name": "ipython",
    "version": 3
   },
   "file_extension": ".py",
   "mimetype": "text/x-python",
   "name": "python",
   "nbconvert_exporter": "python",
   "pygments_lexer": "ipython3",
   "version": "3.12.4"
  }
 },
 "nbformat": 4,
 "nbformat_minor": 4
}
